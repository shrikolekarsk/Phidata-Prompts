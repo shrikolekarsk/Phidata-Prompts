{
 "cells": [
  {
   "cell_type": "code",
   "execution_count": 1,
   "id": "a3c1c2c6-1e04-4fa4-a995-dcbdc40d0dc7",
   "metadata": {},
   "outputs": [
    {
     "name": "stdout",
     "output_type": "stream",
     "text": [
      "Requirement already satisfied: phidata==2.7.10 in c:\\users\\shri\\anaconda3\\lib\\site-packages (2.7.10)\n",
      "Requirement already satisfied: docstring-parser in c:\\users\\shri\\anaconda3\\lib\\site-packages (from phidata==2.7.10) (0.16)\n",
      "Requirement already satisfied: gitpython in c:\\users\\shri\\anaconda3\\lib\\site-packages (from phidata==2.7.10) (3.1.37)\n",
      "Requirement already satisfied: httpx in c:\\users\\shri\\anaconda3\\lib\\site-packages (from phidata==2.7.10) (0.27.0)\n",
      "Requirement already satisfied: pydantic in c:\\users\\shri\\anaconda3\\lib\\site-packages (from phidata==2.7.10) (2.11.7)\n",
      "Requirement already satisfied: pydantic-settings in c:\\users\\shri\\anaconda3\\lib\\site-packages (from phidata==2.7.10) (2.9.1)\n",
      "Requirement already satisfied: python-dotenv in c:\\users\\shri\\anaconda3\\lib\\site-packages (from phidata==2.7.10) (0.21.0)\n",
      "Requirement already satisfied: pyyaml in c:\\users\\shri\\anaconda3\\lib\\site-packages (from phidata==2.7.10) (6.0.1)\n",
      "Requirement already satisfied: rich in c:\\users\\shri\\anaconda3\\lib\\site-packages (from phidata==2.7.10) (13.3.5)\n",
      "Requirement already satisfied: tomli in c:\\users\\shri\\anaconda3\\lib\\site-packages (from phidata==2.7.10) (2.0.1)\n",
      "Requirement already satisfied: typer in c:\\users\\shri\\anaconda3\\lib\\site-packages (from phidata==2.7.10) (0.16.0)\n",
      "Requirement already satisfied: typing-extensions in c:\\users\\shri\\anaconda3\\lib\\site-packages (from phidata==2.7.10) (4.13.2)\n",
      "Requirement already satisfied: gitdb<5,>=4.0.1 in c:\\users\\shri\\anaconda3\\lib\\site-packages (from gitpython->phidata==2.7.10) (4.0.7)\n",
      "Requirement already satisfied: anyio in c:\\users\\shri\\anaconda3\\lib\\site-packages (from httpx->phidata==2.7.10) (4.2.0)\n",
      "Requirement already satisfied: certifi in c:\\users\\shri\\anaconda3\\lib\\site-packages (from httpx->phidata==2.7.10) (2025.1.31)\n",
      "Requirement already satisfied: httpcore==1.* in c:\\users\\shri\\anaconda3\\lib\\site-packages (from httpx->phidata==2.7.10) (1.0.2)\n",
      "Requirement already satisfied: idna in c:\\users\\shri\\anaconda3\\lib\\site-packages (from httpx->phidata==2.7.10) (3.7)\n",
      "Requirement already satisfied: sniffio in c:\\users\\shri\\anaconda3\\lib\\site-packages (from httpx->phidata==2.7.10) (1.3.0)\n",
      "Requirement already satisfied: h11<0.15,>=0.13 in c:\\users\\shri\\anaconda3\\lib\\site-packages (from httpcore==1.*->httpx->phidata==2.7.10) (0.14.0)\n",
      "Requirement already satisfied: annotated-types>=0.6.0 in c:\\users\\shri\\anaconda3\\lib\\site-packages (from pydantic->phidata==2.7.10) (0.6.0)\n",
      "Requirement already satisfied: pydantic-core==2.33.2 in c:\\users\\shri\\anaconda3\\lib\\site-packages (from pydantic->phidata==2.7.10) (2.33.2)\n",
      "Requirement already satisfied: typing-inspection>=0.4.0 in c:\\users\\shri\\anaconda3\\lib\\site-packages (from pydantic->phidata==2.7.10) (0.4.1)\n",
      "Requirement already satisfied: markdown-it-py<3.0.0,>=2.2.0 in c:\\users\\shri\\anaconda3\\lib\\site-packages (from rich->phidata==2.7.10) (2.2.0)\n",
      "Requirement already satisfied: pygments<3.0.0,>=2.13.0 in c:\\users\\shri\\anaconda3\\lib\\site-packages (from rich->phidata==2.7.10) (2.15.1)\n",
      "Requirement already satisfied: click>=8.0.0 in c:\\users\\shri\\anaconda3\\lib\\site-packages (from typer->phidata==2.7.10) (8.1.7)\n",
      "Requirement already satisfied: shellingham>=1.3.0 in c:\\users\\shri\\anaconda3\\lib\\site-packages (from typer->phidata==2.7.10) (1.5.4)\n",
      "Requirement already satisfied: colorama in c:\\users\\shri\\anaconda3\\lib\\site-packages (from click>=8.0.0->typer->phidata==2.7.10) (0.4.6)\n",
      "Requirement already satisfied: smmap<5,>=3.0.1 in c:\\users\\shri\\anaconda3\\lib\\site-packages (from gitdb<5,>=4.0.1->gitpython->phidata==2.7.10) (4.0.0)\n",
      "Requirement already satisfied: mdurl~=0.1 in c:\\users\\shri\\anaconda3\\lib\\site-packages (from markdown-it-py<3.0.0,>=2.2.0->rich->phidata==2.7.10) (0.1.0)\n"
     ]
    }
   ],
   "source": [
    "!pip install phidata==2.7.10"
   ]
  },
  {
   "cell_type": "code",
   "execution_count": 14,
   "id": "069f949f-03be-46e7-8c5c-af4d70f452ac",
   "metadata": {},
   "outputs": [],
   "source": [
    "import os \n",
    "os.environ[\"OPENAI_API_KEY\"]='Insert Your OPENAI_API_KEY'"
   ]
  },
  {
   "cell_type": "code",
   "execution_count": 3,
   "id": "600a1290-5d2e-4907-9c0f-62f4204a4938",
   "metadata": {},
   "outputs": [
    {
     "name": "stdout",
     "output_type": "stream",
     "text": [
      "Requirement already satisfied: openai in c:\\users\\shri\\anaconda3\\lib\\site-packages (1.93.0)\n",
      "Requirement already satisfied: anyio<5,>=3.5.0 in c:\\users\\shri\\anaconda3\\lib\\site-packages (from openai) (3.7.1)\n",
      "Requirement already satisfied: distro<2,>=1.7.0 in c:\\users\\shri\\anaconda3\\lib\\site-packages (from openai) (1.9.0)\n",
      "Requirement already satisfied: httpx<1,>=0.23.0 in c:\\users\\shri\\anaconda3\\lib\\site-packages (from openai) (0.27.0)\n",
      "Requirement already satisfied: jiter<1,>=0.4.0 in c:\\users\\shri\\anaconda3\\lib\\site-packages (from openai) (0.10.0)\n",
      "Requirement already satisfied: pydantic<3,>=1.9.0 in c:\\users\\shri\\anaconda3\\lib\\site-packages (from openai) (2.11.7)\n",
      "Requirement already satisfied: sniffio in c:\\users\\shri\\anaconda3\\lib\\site-packages (from openai) (1.3.0)\n",
      "Requirement already satisfied: tqdm>4 in c:\\users\\shri\\anaconda3\\lib\\site-packages (from openai) (4.66.4)\n",
      "Requirement already satisfied: typing-extensions<5,>=4.11 in c:\\users\\shri\\anaconda3\\lib\\site-packages (from openai) (4.13.2)\n",
      "Requirement already satisfied: idna>=2.8 in c:\\users\\shri\\anaconda3\\lib\\site-packages (from anyio<5,>=3.5.0->openai) (3.7)\n",
      "Requirement already satisfied: certifi in c:\\users\\shri\\anaconda3\\lib\\site-packages (from httpx<1,>=0.23.0->openai) (2025.6.15)\n",
      "Requirement already satisfied: httpcore==1.* in c:\\users\\shri\\anaconda3\\lib\\site-packages (from httpx<1,>=0.23.0->openai) (1.0.2)\n",
      "Requirement already satisfied: h11<0.15,>=0.13 in c:\\users\\shri\\anaconda3\\lib\\site-packages (from httpcore==1.*->httpx<1,>=0.23.0->openai) (0.14.0)\n",
      "Requirement already satisfied: annotated-types>=0.6.0 in c:\\users\\shri\\anaconda3\\lib\\site-packages (from pydantic<3,>=1.9.0->openai) (0.6.0)\n",
      "Requirement already satisfied: pydantic-core==2.33.2 in c:\\users\\shri\\anaconda3\\lib\\site-packages (from pydantic<3,>=1.9.0->openai) (2.33.2)\n",
      "Requirement already satisfied: typing-inspection>=0.4.0 in c:\\users\\shri\\anaconda3\\lib\\site-packages (from pydantic<3,>=1.9.0->openai) (0.4.1)\n",
      "Requirement already satisfied: colorama in c:\\users\\shri\\anaconda3\\lib\\site-packages (from tqdm>4->openai) (0.4.6)\n"
     ]
    }
   ],
   "source": [
    "!pip install openai"
   ]
  },
  {
   "cell_type": "code",
   "execution_count": 16,
   "id": "c6ce9483-a7c7-4a4f-8a4b-e261aefd2637",
   "metadata": {},
   "outputs": [
    {
     "name": "stdout",
     "output_type": "stream",
     "text": [
      "content=\"Octopuses have three hearts! Two of the hearts pump blood to the gills, while the third heart pumps it to the rest of the body. When an octopus swims, the heart that delivers blood to the rest of the body actually stops beating, which is why they often prefer crawling to swimming—it's less exhausting for them!\" content_type='str' event='RunResponse' messages=[Message(role='developer', content='## Instructions\\n- Answer concisely.\\n- Use markdown to format your answers.', name=None, tool_call_id=None, tool_calls=None, audio=None, images=None, videos=None, tool_name=None, tool_args=None, tool_call_error=None, stop_after_tool_call=False, metrics={}, references=None, created_at=1751980603), Message(role='user', content='Tell me a fun fact about octopuses.', name=None, tool_call_id=None, tool_calls=None, audio=None, images=None, videos=None, tool_name=None, tool_args=None, tool_call_error=None, stop_after_tool_call=False, metrics={}, references=None, created_at=1751980603), Message(role='assistant', content=\"Octopuses have three hearts! Two of the hearts pump blood to the gills, while the third heart pumps it to the rest of the body. When an octopus swims, the heart that delivers blood to the rest of the body actually stops beating, which is why they often prefer crawling to swimming—it's less exhausting for them!\", name=None, tool_call_id=None, tool_calls=None, audio=None, images=None, videos=None, tool_name=None, tool_args=None, tool_call_error=None, stop_after_tool_call=False, metrics={'time': 2.7090724000008777, 'input_tokens': 38, 'prompt_tokens': 38, 'output_tokens': 68, 'completion_tokens': 68, 'total_tokens': 106, 'prompt_tokens_details': {'audio_tokens': 0, 'cached_tokens': 0}, 'completion_tokens_details': {'accepted_prediction_tokens': 0, 'audio_tokens': 0, 'reasoning_tokens': 0, 'rejected_prediction_tokens': 0}}, references=None, created_at=1751980606)] metrics=defaultdict(<class 'list'>, {'time': [2.7090724000008777], 'input_tokens': [38], 'prompt_tokens': [38], 'output_tokens': [68], 'completion_tokens': [68], 'total_tokens': [106], 'prompt_tokens_details': [{'audio_tokens': 0, 'cached_tokens': 0}], 'completion_tokens_details': [{'accepted_prediction_tokens': 0, 'audio_tokens': 0, 'reasoning_tokens': 0, 'rejected_prediction_tokens': 0}]}) model='gpt-4o' run_id='a1075d03-8127-4911-89f0-99ec8170ca35' agent_id='37b86e2d-e9d3-47e1-9535-064c68ef2766' session_id='25665133-6649-4249-8f54-a6670b1650f6' workflow_id=None tools=None images=None videos=None audio=None response_audio=None extra_data=None created_at=1751980452\n"
     ]
    }
   ],
   "source": [
    "from phi.agent import Agent\n",
    "from phi.model.openai import OpenAIChat\n",
    "\n",
    "agent = Agent(\n",
    "    model=OpenAIChat(id=\"gpt-4o\"),\n",
    "    instructions=[\"Answer concisely.\"],   # system prompt style\n",
    "    markdown=True,\n",
    "    show_tool_calls=True\n",
    ")\n",
    "\n",
    "response = agent.run(\"Tell me a fun fact about octopuses.\")\n",
    "print(response)\n",
    "\n"
   ]
  },
  {
   "cell_type": "code",
   "execution_count": 18,
   "id": "3401b5b8-ab93-4efe-9ff6-a3ec07e45bf6",
   "metadata": {},
   "outputs": [
    {
     "data": {
      "application/vnd.jupyter.widget-view+json": {
       "model_id": "b3b2a6cbc590472bae290f3e6f9cfdd0",
       "version_major": 2,
       "version_minor": 0
      },
      "text/plain": [
       "Output()"
      ]
     },
     "metadata": {},
     "output_type": "display_data"
    },
    {
     "data": {
      "text/html": [
       "<pre style=\"white-space:pre;overflow-x:auto;line-height:normal;font-family:Menlo,'DejaVu Sans Mono',consolas,'Courier New',monospace\"></pre>\n"
      ],
      "text/plain": []
     },
     "metadata": {},
     "output_type": "display_data"
    },
    {
     "data": {
      "application/vnd.jupyter.widget-view+json": {
       "model_id": "e90d356cccbb41f3a25191eeecad1e9e",
       "version_major": 2,
       "version_minor": 0
      },
      "text/plain": [
       "Output()"
      ]
     },
     "metadata": {},
     "output_type": "display_data"
    },
    {
     "data": {
      "text/html": [
       "<pre style=\"white-space:pre;overflow-x:auto;line-height:normal;font-family:Menlo,'DejaVu Sans Mono',consolas,'Courier New',monospace\"></pre>\n"
      ],
      "text/plain": []
     },
     "metadata": {},
     "output_type": "display_data"
    }
   ],
   "source": [
    "from phi.agent import Agent\n",
    "from phi.model.openai import OpenAIChat\n",
    "\n",
    "agent = Agent(\n",
    "    model=OpenAIChat(id=\"gpt-4o\"),\n",
    "    add_history_to_messages=True,   # keeps memory of past messages\n",
    "    num_history_responses=3,\n",
    "    markdown=True\n",
    ")\n",
    "\n",
    "agent.print_response(\"Hi, who won the World Cup in 2018?\", stream=True)\n",
    "agent.print_response(\"Who was the top scorer in that tournament?\", stream=True)\n"
   ]
  },
  {
   "cell_type": "code",
   "execution_count": 19,
   "id": "e932a5ed-849d-4f31-8105-6afb6252eec6",
   "metadata": {},
   "outputs": [
    {
     "data": {
      "application/vnd.jupyter.widget-view+json": {
       "model_id": "1a6ef7e30f0e481c80b6378f4dda4e4e",
       "version_major": 2,
       "version_minor": 0
      },
      "text/plain": [
       "Output()"
      ]
     },
     "metadata": {},
     "output_type": "display_data"
    },
    {
     "data": {
      "text/html": [
       "<pre style=\"white-space:pre;overflow-x:auto;line-height:normal;font-family:Menlo,'DejaVu Sans Mono',consolas,'Courier New',monospace\"></pre>\n"
      ],
      "text/plain": []
     },
     "metadata": {},
     "output_type": "display_data"
    },
    {
     "data": {
      "application/vnd.jupyter.widget-view+json": {
       "model_id": "b4b724c997db4325a2c3b66a1c39dde5",
       "version_major": 2,
       "version_minor": 0
      },
      "text/plain": [
       "Output()"
      ]
     },
     "metadata": {},
     "output_type": "display_data"
    },
    {
     "data": {
      "text/html": [
       "<pre style=\"white-space:pre;overflow-x:auto;line-height:normal;font-family:Menlo,'DejaVu Sans Mono',consolas,'Courier New',monospace\"></pre>\n"
      ],
      "text/plain": []
     },
     "metadata": {},
     "output_type": "display_data"
    }
   ],
   "source": [
    "from phi.agent import Agent\n",
    "from phi.model.openai import OpenAIChat\n",
    "\n",
    "agent = Agent(\n",
    "    model=OpenAIChat(id=\"gpt-4o\"),\n",
    "    add_history_to_messages=True,   # keeps memory of past messages\n",
    "    num_history_responses=3,\n",
    "    markdown=True\n",
    ")\n",
    "\n",
    "agent.print_response(\"Hi, who won the IPL 2019?\", stream=True)\n",
    "agent.print_response(\"Who was the top scorer in that tournament?\", stream=True)\n"
   ]
  },
  {
   "cell_type": "code",
   "execution_count": 20,
   "id": "f67e2479-1dc2-451b-9145-b66b5c8a3ac3",
   "metadata": {},
   "outputs": [
    {
     "data": {
      "application/vnd.jupyter.widget-view+json": {
       "model_id": "297bc6feacdb4d7fa691f9d45ff245a1",
       "version_major": 2,
       "version_minor": 0
      },
      "text/plain": [
       "Output()"
      ]
     },
     "metadata": {},
     "output_type": "display_data"
    },
    {
     "data": {
      "text/html": [
       "<pre style=\"white-space:pre;overflow-x:auto;line-height:normal;font-family:Menlo,'DejaVu Sans Mono',consolas,'Courier New',monospace\"></pre>\n"
      ],
      "text/plain": []
     },
     "metadata": {},
     "output_type": "display_data"
    },
    {
     "data": {
      "application/vnd.jupyter.widget-view+json": {
       "model_id": "a3d407db38c044fbacd7e4b87e5e160b",
       "version_major": 2,
       "version_minor": 0
      },
      "text/plain": [
       "Output()"
      ]
     },
     "metadata": {},
     "output_type": "display_data"
    },
    {
     "data": {
      "text/html": [
       "<pre style=\"white-space:pre;overflow-x:auto;line-height:normal;font-family:Menlo,'DejaVu Sans Mono',consolas,'Courier New',monospace\"></pre>\n"
      ],
      "text/plain": []
     },
     "metadata": {},
     "output_type": "display_data"
    }
   ],
   "source": [
    "from phi.agent import Agent\n",
    "from phi.model.openai import OpenAIChat\n",
    "\n",
    "agent = Agent(\n",
    "    model=OpenAIChat(id=\"gpt-4o\"),\n",
    "    add_history_to_messages=True,   # keeps memory of past messages\n",
    "    num_history_responses=3,\n",
    "    markdown=True\n",
    ")\n",
    "\n",
    "agent.print_response(\"Hi, who won the ICC World 2019?\", stream=True)\n",
    "agent.print_response(\"Who was the top scorer in that tournament?\", stream=True)\n"
   ]
  },
  {
   "cell_type": "code",
   "execution_count": 21,
   "id": "f44fd718-3427-4bf5-a02a-3d8ddbb28aa2",
   "metadata": {},
   "outputs": [
    {
     "data": {
      "application/vnd.jupyter.widget-view+json": {
       "model_id": "ea38ba258da04e4cad5b908a2c335929",
       "version_major": 2,
       "version_minor": 0
      },
      "text/plain": [
       "Output()"
      ]
     },
     "metadata": {},
     "output_type": "display_data"
    },
    {
     "data": {
      "text/html": [
       "<pre style=\"white-space:pre;overflow-x:auto;line-height:normal;font-family:Menlo,'DejaVu Sans Mono',consolas,'Courier New',monospace\"></pre>\n"
      ],
      "text/plain": []
     },
     "metadata": {},
     "output_type": "display_data"
    },
    {
     "data": {
      "application/vnd.jupyter.widget-view+json": {
       "model_id": "26160b6859804db8b070db33e3970ac1",
       "version_major": 2,
       "version_minor": 0
      },
      "text/plain": [
       "Output()"
      ]
     },
     "metadata": {},
     "output_type": "display_data"
    },
    {
     "data": {
      "text/html": [
       "<pre style=\"white-space:pre;overflow-x:auto;line-height:normal;font-family:Menlo,'DejaVu Sans Mono',consolas,'Courier New',monospace\"></pre>\n"
      ],
      "text/plain": []
     },
     "metadata": {},
     "output_type": "display_data"
    }
   ],
   "source": [
    "agent.print_response(\"What is the Correct way of the Role Data Scientist\", stream=True)\n",
    "agent.print_response(\"And Give its what to do preperations\", stream=True)"
   ]
  },
  {
   "cell_type": "code",
   "execution_count": 22,
   "id": "273ea6e4-d0ad-442f-9d79-fb012e1f7c99",
   "metadata": {},
   "outputs": [
    {
     "data": {
      "application/vnd.jupyter.widget-view+json": {
       "model_id": "bdb50014bad74b16a86ba79cebdc11c8",
       "version_major": 2,
       "version_minor": 0
      },
      "text/plain": [
       "Output()"
      ]
     },
     "metadata": {},
     "output_type": "display_data"
    },
    {
     "data": {
      "text/html": [
       "<pre style=\"white-space:pre;overflow-x:auto;line-height:normal;font-family:Menlo,'DejaVu Sans Mono',consolas,'Courier New',monospace\"></pre>\n"
      ],
      "text/plain": []
     },
     "metadata": {},
     "output_type": "display_data"
    },
    {
     "data": {
      "application/vnd.jupyter.widget-view+json": {
       "model_id": "88fb4f958ade4bb3bfefcfaee555247a",
       "version_major": 2,
       "version_minor": 0
      },
      "text/plain": [
       "Output()"
      ]
     },
     "metadata": {},
     "output_type": "display_data"
    },
    {
     "data": {
      "text/html": [
       "<pre style=\"white-space:pre;overflow-x:auto;line-height:normal;font-family:Menlo,'DejaVu Sans Mono',consolas,'Courier New',monospace\"></pre>\n"
      ],
      "text/plain": []
     },
     "metadata": {},
     "output_type": "display_data"
    }
   ],
   "source": [
    "agent.print_response(\"Give me 2BHK East Facing Home 2D Plan for 1000 Sqft\", stream=True)\n",
    "agent.print_response(\"And Give me its Output 3D Design For this home above 2D Plan\", stream=True)"
   ]
  },
  {
   "cell_type": "code",
   "execution_count": 23,
   "id": "21bf3baa-4833-463c-8147-e945563535f4",
   "metadata": {},
   "outputs": [
    {
     "data": {
      "application/vnd.jupyter.widget-view+json": {
       "model_id": "d9f9052018474e47b72b71e16d720bb2",
       "version_major": 2,
       "version_minor": 0
      },
      "text/plain": [
       "Output()"
      ]
     },
     "metadata": {},
     "output_type": "display_data"
    },
    {
     "data": {
      "text/html": [
       "<pre style=\"white-space:pre;overflow-x:auto;line-height:normal;font-family:Menlo,'DejaVu Sans Mono',consolas,'Courier New',monospace\"></pre>\n"
      ],
      "text/plain": []
     },
     "metadata": {},
     "output_type": "display_data"
    },
    {
     "data": {
      "application/vnd.jupyter.widget-view+json": {
       "model_id": "72274df9034f43faaa06684d0dcb8c14",
       "version_major": 2,
       "version_minor": 0
      },
      "text/plain": [
       "Output()"
      ]
     },
     "metadata": {},
     "output_type": "display_data"
    },
    {
     "data": {
      "text/html": [
       "<pre style=\"white-space:pre;overflow-x:auto;line-height:normal;font-family:Menlo,'DejaVu Sans Mono',consolas,'Courier New',monospace\"></pre>\n"
      ],
      "text/plain": []
     },
     "metadata": {},
     "output_type": "display_data"
    }
   ],
   "source": [
    "agent.print_response(\"I am completed my postgraduation in MCA 2024 and also complete Data Science and Gen - AI Course ..Now what to preperation for Job how to apply give me all resposes about that role for job \", stream=True)\n",
    "agent.print_response(\"And How to prepere for this job\", stream=True)"
   ]
  },
  {
   "cell_type": "code",
   "execution_count": 24,
   "id": "61834211-4085-42ad-a7b1-e9d6bce4e545",
   "metadata": {},
   "outputs": [
    {
     "data": {
      "application/vnd.jupyter.widget-view+json": {
       "model_id": "5da73c8537084258aba5d3a90ddcd3a3",
       "version_major": 2,
       "version_minor": 0
      },
      "text/plain": [
       "Output()"
      ]
     },
     "metadata": {},
     "output_type": "display_data"
    },
    {
     "data": {
      "text/html": [
       "<pre style=\"white-space:pre;overflow-x:auto;line-height:normal;font-family:Menlo,'DejaVu Sans Mono',consolas,'Courier New',monospace\"></pre>\n"
      ],
      "text/plain": []
     },
     "metadata": {},
     "output_type": "display_data"
    },
    {
     "data": {
      "application/vnd.jupyter.widget-view+json": {
       "model_id": "86728a4bc1d64b16b2020d0b88bb3c41",
       "version_major": 2,
       "version_minor": 0
      },
      "text/plain": [
       "Output()"
      ]
     },
     "metadata": {},
     "output_type": "display_data"
    },
    {
     "data": {
      "text/html": [
       "<pre style=\"white-space:pre;overflow-x:auto;line-height:normal;font-family:Menlo,'DejaVu Sans Mono',consolas,'Courier New',monospace\"></pre>\n"
      ],
      "text/plain": []
     },
     "metadata": {},
     "output_type": "display_data"
    },
    {
     "data": {
      "application/vnd.jupyter.widget-view+json": {
       "model_id": "8c91739c02dd49f7822dd7f4553da25f",
       "version_major": 2,
       "version_minor": 0
      },
      "text/plain": [
       "Output()"
      ]
     },
     "metadata": {},
     "output_type": "display_data"
    },
    {
     "data": {
      "text/html": [
       "<pre style=\"white-space:pre;overflow-x:auto;line-height:normal;font-family:Menlo,'DejaVu Sans Mono',consolas,'Courier New',monospace\"></pre>\n"
      ],
      "text/plain": []
     },
     "metadata": {},
     "output_type": "display_data"
    },
    {
     "data": {
      "application/vnd.jupyter.widget-view+json": {
       "model_id": "3a33226eb3bd47969f48322ead13cee4",
       "version_major": 2,
       "version_minor": 0
      },
      "text/plain": [
       "Output()"
      ]
     },
     "metadata": {},
     "output_type": "display_data"
    },
    {
     "data": {
      "text/html": [
       "<pre style=\"white-space:pre;overflow-x:auto;line-height:normal;font-family:Menlo,'DejaVu Sans Mono',consolas,'Courier New',monospace\"></pre>\n"
      ],
      "text/plain": []
     },
     "metadata": {},
     "output_type": "display_data"
    }
   ],
   "source": [
    "agent.print_response(\"Machine Lerning Models Explain simple language easy to understand\", stream=True)\n",
    "agent.print_response(\"Matrics in ML like RME RMSE Confusition matrics \", stream=True)\n",
    "agent.print_response(\"Deep lerning Interview Question with ans simple lagnuge \", stream=True)\n",
    "agent.print_response(\"NLP explaination and Interview Question with ans simple langauge\", stream=True)"
   ]
  },
  {
   "cell_type": "code",
   "execution_count": 26,
   "id": "15ec0dfd-5c01-4331-bd9c-bd9982cea888",
   "metadata": {},
   "outputs": [
    {
     "data": {
      "application/vnd.jupyter.widget-view+json": {
       "model_id": "7e77ac3db1ad4d8995af53489c498cd3",
       "version_major": 2,
       "version_minor": 0
      },
      "text/plain": [
       "Output()"
      ]
     },
     "metadata": {},
     "output_type": "display_data"
    },
    {
     "data": {
      "text/html": [
       "<pre style=\"white-space:pre;overflow-x:auto;line-height:normal;font-family:Menlo,'DejaVu Sans Mono',consolas,'Courier New',monospace\"></pre>\n"
      ],
      "text/plain": []
     },
     "metadata": {},
     "output_type": "display_data"
    }
   ],
   "source": [
    "agent.print_response(\"Worked on real-world business data to build ML models for customer segmentation, Assisted in data cleaning and feature engineering using Python and Pandas,Created reports and dashboards using Power BI for internal stakeholder reviews,Participated in model validation and deployment activities using MLFlow\" \"Convert in this text into different role like Data Science Inlude in this woriking on Complete Gen-AI project\", stream=True)\n"
   ]
  },
  {
   "cell_type": "code",
   "execution_count": null,
   "id": "ffc9ae10-d9ed-4181-9815-d96d24b59a0a",
   "metadata": {},
   "outputs": [],
   "source": []
  }
 ],
 "metadata": {
  "kernelspec": {
   "display_name": "Python 3 (ipykernel)",
   "language": "python",
   "name": "python3"
  },
  "language_info": {
   "codemirror_mode": {
    "name": "ipython",
    "version": 3
   },
   "file_extension": ".py",
   "mimetype": "text/x-python",
   "name": "python",
   "nbconvert_exporter": "python",
   "pygments_lexer": "ipython3",
   "version": "3.12.3"
  }
 },
 "nbformat": 4,
 "nbformat_minor": 5
}
